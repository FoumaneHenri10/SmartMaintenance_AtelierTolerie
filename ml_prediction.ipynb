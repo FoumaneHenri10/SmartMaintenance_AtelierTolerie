{
 "cells": [
  {
   "cell_type": "markdown",
   "id": "027ddaf8",
   "metadata": {},
   "source": [
    "### Modèle ML — prédiction du risque de panne dans les 7 prochains jours.\n",
    "L’objectif : montrer une valeur prédictive du projet et donner un vrai impact data-driven pour l’atelier."
   ]
  },
  {
   "cell_type": "markdown",
   "id": "30f9e4cf",
   "metadata": {},
   "source": [
    "Import des librairies "
   ]
  },
  {
   "cell_type": "code",
   "execution_count": 10,
   "id": "4a5b45f6",
   "metadata": {},
   "outputs": [],
   "source": [
    "import pandas as pd\n",
    "import numpy as np\n",
    "from datetime import timedelta\n",
    "from sklearn.model_selection import train_test_split\n",
    "from sklearn.ensemble import RandomForestClassifier\n",
    "from sklearn.metrics import classification_report, accuracy_score\n",
    "import joblib   "
   ]
  },
  {
   "cell_type": "code",
   "execution_count": 11,
   "id": "1daa5f0a",
   "metadata": {},
   "outputs": [],
   "source": [
    "# Charger dataset\n",
    "df = pd.read_csv(\"maintenance_events.csv\", parse_dates=[\"failure_date\"])\n",
    "machines = df[\"machine\"].unique()\n",
    "\n",
    "ml_data = []\n",
    "\n",
    "for machine in machines:\n",
    "    data = df[df[\"machine\"] == machine].sort_values(\"failure_date\")\n",
    "    for i, row in data.iterrows():\n",
    "        # Fenêtre 7 jours avant la panne\n",
    "        start_window = row[\"failure_date\"] - timedelta(days=7)\n",
    "        window = data[(data[\"failure_date\"] >= start_window) & (data[\"failure_date\"] < row[\"failure_date\"])]\n",
    "        \n",
    "        avg_downtime = window[\"downtime_h\"].mean() if not window.empty else 0\n",
    "        avg_cost = window[\"cost_eur\"].mean() if not window.empty else 0\n",
    "        avg_scrap = window[\"scrap_units\"].mean() if not window.empty else 0\n",
    "        days_since_last = (row[\"failure_date\"] - window[\"failure_date\"].max()).days if not window.empty else 7\n",
    "        \n",
    "        # Label = panne (1)\n",
    "        ml_data.append({\n",
    "            \"machine\": machine,\n",
    "            \"avg_downtime_7d\": avg_downtime,\n",
    "            \"avg_cost_7d\": avg_cost,\n",
    "            \"avg_scrap_7d\": avg_scrap,\n",
    "            \"days_since_last\": days_since_last,\n",
    "            \"label_next_7d\": 1\n",
    "        })\n",
    "        \n",
    "        # Label = pas de panne (0) pour équilibrer\n",
    "        ml_data.append({\n",
    "            \"machine\": machine,\n",
    "            \"avg_downtime_7d\": avg_downtime * 0.5,\n",
    "            \"avg_cost_7d\": avg_cost * 0.5,\n",
    "            \"avg_scrap_7d\": avg_scrap * 0.5,\n",
    "            \"days_since_last\": days_since_last + 2,\n",
    "            \"label_next_7d\": 0\n",
    "        })\n",
    "\n",
    "ml_df = pd.DataFrame(ml_data)\n"
   ]
  },
  {
   "cell_type": "markdown",
   "id": "2b977e9f",
   "metadata": {},
   "source": [
    "Features / target"
   ]
  },
  {
   "cell_type": "code",
   "execution_count": 12,
   "id": "e76d3b69",
   "metadata": {},
   "outputs": [],
   "source": [
    "X = ml_df[[\"avg_downtime_7d\", \"avg_cost_7d\", \"avg_scrap_7d\", \"days_since_last\"]]\n",
    "y = ml_df[\"label_next_7d\"]\n",
    "\n",
    "# Séparation train/test\n",
    "X_train, X_test, y_train, y_test = train_test_split(X, y, test_size=0.2, random_state=42, stratify=y)\n",
    "\n"
   ]
  },
  {
   "cell_type": "markdown",
   "id": "0b4764e1",
   "metadata": {},
   "source": [
    "Modèle simple RandomForest"
   ]
  },
  {
   "cell_type": "code",
   "execution_count": null,
   "id": "170018a0",
   "metadata": {},
   "outputs": [
    {
     "name": "stdout",
     "output_type": "stream",
     "text": [
      "✅ Accuracy: 0.896551724137931\n",
      "              precision    recall  f1-score   support\n",
      "\n",
      "           0       1.00      0.80      0.89        15\n",
      "           1       0.82      1.00      0.90        14\n",
      "\n",
      "    accuracy                           0.90        29\n",
      "   macro avg       0.91      0.90      0.90        29\n",
      "weighted avg       0.91      0.90      0.90        29\n",
      "\n"
     ]
    }
   ],
   "source": [
    "clf = RandomForestClassifier(n_estimators=100, random_state=42)\n",
    "clf.fit(X_train, y_train)\n",
    "y_pred = clf.predict(X_test)\n",
    "\n",
    "print(\"✅ Accuracy:\", accuracy_score(y_test, y_pred))\n",
    "print(classification_report(y_test, y_pred))\n"
   ]
  },
  {
   "cell_type": "markdown",
   "id": "9778fdf3",
   "metadata": {},
   "source": [
    "Sauvegarder modèle pour Streamlit (optionnel)"
   ]
  },
  {
   "cell_type": "code",
   "execution_count": 14,
   "id": "023143dc",
   "metadata": {},
   "outputs": [
    {
     "name": "stdout",
     "output_type": "stream",
     "text": [
      "✅ Modèle sauvegardé : rf_model_maintenance.pkl\n"
     ]
    }
   ],
   "source": [
    "import joblib\n",
    "joblib.dump(clf, \"rf_model_maintenance.pkl\")\n",
    "print(\"✅ Modèle sauvegardé : rf_model_maintenance.pkl\")"
   ]
  },
  {
   "cell_type": "markdown",
   "id": "1244dae4",
   "metadata": {},
   "source": [
    "Ce faisant nous sommes venus à ;\n",
    "\n",
    "-Transformer les événements en features temporelles.\n",
    "\n",
    "-Entraîner un Random Forest pour prédire une panne dans les 7 prochains jours.\n",
    "\n",
    "-Évaluer rapidement le modèle avec accuracy et classification_report.\n",
    "\n",
    "-Sauvegarder le modèle (rf_model_maintenance.pkl) pour l’utiliser ensuite dans Streamlit."
   ]
  }
 ],
 "metadata": {
  "kernelspec": {
   "display_name": "base",
   "language": "python",
   "name": "python3"
  },
  "language_info": {
   "codemirror_mode": {
    "name": "ipython",
    "version": 3
   },
   "file_extension": ".py",
   "mimetype": "text/x-python",
   "name": "python",
   "nbconvert_exporter": "python",
   "pygments_lexer": "ipython3",
   "version": "3.12.7"
  }
 },
 "nbformat": 4,
 "nbformat_minor": 5
}
