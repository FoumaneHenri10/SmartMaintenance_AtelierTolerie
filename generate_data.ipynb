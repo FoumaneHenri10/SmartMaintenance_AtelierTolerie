{
 "cells": [
  {
   "cell_type": "markdown",
   "id": "f5b8dac2",
   "metadata": {},
   "source": [
    "## Génération du dataset synthétique"
   ]
  },
  {
   "cell_type": "markdown",
   "id": "4db45e50",
   "metadata": {},
   "source": [
    "#### Import des librairies "
   ]
  },
  {
   "cell_type": "code",
   "execution_count": 2,
   "id": "a53901ed",
   "metadata": {},
   "outputs": [],
   "source": [
    "import pandas as pd\n",
    "import numpy as np\n",
    "import random\n",
    "from datetime import datetime, timedelta"
   ]
  },
  {
   "cell_type": "markdown",
   "id": "e2ecea8a",
   "metadata": {},
   "source": [
    "#### Paramètres"
   ]
  },
  {
   "cell_type": "code",
   "execution_count": 3,
   "id": "ac20ea90",
   "metadata": {},
   "outputs": [],
   "source": [
    "n_machines = 5\n",
    "days = 180  # 6 mois d'historique\n",
    "events = []\n",
    "\n",
    "machines = [f\"Press_{i}\" for i in range(1, n_machines+1)]\n",
    "\n",
    "start_date = datetime.today() - timedelta(days=days)\n",
    "\n",
    "for machine in machines:\n",
    "    current_date = start_date\n",
    "    while current_date < datetime.today():\n",
    "        # Temps avant la prochaine panne (aléatoire)\n",
    "        time_to_failure = np.random.randint(3, 20)\n",
    "        failure_date = current_date + timedelta(days=time_to_failure)\n",
    "\n",
    "        if failure_date >= datetime.today():\n",
    "            break\n",
    "\n",
    "        # Durée de réparation (MTTR simulé)\n",
    "        repair_time = np.random.randint(1, 8)  # heures\n",
    "\n",
    "        # Coût de réparation\n",
    "        cost = repair_time * random.choice([50, 75, 100])  # €/h + pièces\n",
    "\n",
    "        # Scrap (rebuts causés par panne)\n",
    "        scrap = np.random.randint(5, 50)\n",
    "\n",
    "        events.append({\n",
    "            \"machine\": machine,\n",
    "            \"failure_date\": failure_date.date(),\n",
    "            \"repair_time_h\": repair_time,\n",
    "            \"downtime_h\": repair_time,\n",
    "            \"cost_eur\": cost,\n",
    "            \"scrap_units\": scrap\n",
    "        })\n",
    "\n",
    "        current_date = failure_date + timedelta(days=1)\n",
    "\n",
    "# Création DataFrame\n",
    "df = pd.DataFrame(events)\n"
   ]
  },
  {
   "cell_type": "markdown",
   "id": "da38182e",
   "metadata": {},
   "source": [
    "#### Sauvegarde CSV"
   ]
  },
  {
   "cell_type": "code",
   "execution_count": 4,
   "id": "544785fa",
   "metadata": {},
   "outputs": [
    {
     "name": "stdout",
     "output_type": "stream",
     "text": [
      "✅ Dataset synthétique généré : maintenance_events.csv\n",
      "   machine failure_date  repair_time_h  downtime_h  cost_eur  scrap_units\n",
      "0  Press_1   2025-03-22              7           7       700           42\n",
      "1  Press_1   2025-04-06              2           2       100           24\n",
      "2  Press_1   2025-04-25              7           7       350           44\n",
      "3  Press_1   2025-05-14              5           5       250            7\n",
      "4  Press_1   2025-05-24              7           7       350           21\n",
      "5  Press_1   2025-06-01              7           7       700           40\n",
      "6  Press_1   2025-06-15              1           1       100           31\n",
      "7  Press_1   2025-06-26              3           3       150           10\n",
      "8  Press_1   2025-07-02              6           6       300           22\n",
      "9  Press_1   2025-07-17              4           4       300           37\n"
     ]
    }
   ],
   "source": [
    "df.to_csv(\"maintenance_events.csv\", index=False)\n",
    "\n",
    "print(\"✅ Dataset synthétique généré : maintenance_events.csv\")\n",
    "print(df.head(10))"
   ]
  },
  {
   "cell_type": "markdown",
   "id": "132555ae",
   "metadata": {},
   "source": [
    "Nous obtenons donc un fichier maintenance_events.csv avec des colonnes :\n",
    "\n",
    "-machine\n",
    "\n",
    "-failure_date\n",
    "\n",
    "-repair_time_h\n",
    "\n",
    "-downtime_h\n",
    "\n",
    "-cost_eur\n",
    "\n",
    "-scrap_units"
   ]
  }
 ],
 "metadata": {
  "kernelspec": {
   "display_name": "base",
   "language": "python",
   "name": "python3"
  },
  "language_info": {
   "codemirror_mode": {
    "name": "ipython",
    "version": 3
   },
   "file_extension": ".py",
   "mimetype": "text/x-python",
   "name": "python",
   "nbconvert_exporter": "python",
   "pygments_lexer": "ipython3",
   "version": "3.12.7"
  }
 },
 "nbformat": 4,
 "nbformat_minor": 5
}
