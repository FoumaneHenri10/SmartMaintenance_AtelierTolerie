{
 "cells": [
  {
   "cell_type": "markdown",
   "id": "d91cf752",
   "metadata": {},
   "source": [
    "## Script KPI (squelette ETL)"
   ]
  },
  {
   "cell_type": "markdown",
   "id": "b87ed94d",
   "metadata": {},
   "source": [
    "#### Import de la librairie (Pandas)"
   ]
  },
  {
   "cell_type": "code",
   "execution_count": 2,
   "id": "e3b7adc0",
   "metadata": {},
   "outputs": [],
   "source": [
    "import pandas as pd"
   ]
  },
  {
   "cell_type": "code",
   "execution_count": 3,
   "id": "4cca6550",
   "metadata": {},
   "outputs": [],
   "source": [
    "# Charger dataset\n",
    "df = pd.read_csv(\"maintenance_events.csv\", parse_dates=[\"failure_date\"])\n",
    "\n",
    "# Tri par machine + date\n",
    "df = df.sort_values(by=[\"machine\", \"failure_date\"])\n",
    "\n",
    "# Initialisation résultats\n",
    "results = []\n",
    "\n",
    "machines = df[\"machine\"].unique()\n",
    "\n",
    "for machine in machines:\n",
    "    data = df[df[\"machine\"] == machine].copy()\n",
    "    \n",
    "    # MTTR = moyenne des temps de réparation\n",
    "    mttr = data[\"repair_time_h\"].mean()\n",
    "    \n",
    "    # MTBF = moyenne du temps entre 2 pannes (jours)\n",
    "    if len(data) > 1:\n",
    "        diffs = data[\"failure_date\"].diff().dt.days[1:]\n",
    "        mtbf = diffs.mean()\n",
    "    else:\n",
    "        mtbf = None  # Pas assez de données\n",
    "    \n",
    "    # Downtime total\n",
    "    downtime_total = data[\"downtime_h\"].sum()\n",
    "    \n",
    "    # Coût total\n",
    "    cost_total = data[\"cost_eur\"].sum()\n",
    "    \n",
    "    # Scrap total & scrap rate (par rapport au total scrap global)\n",
    "    scrap_total = data[\"scrap_units\"].sum()\n",
    "    scrap_rate = scrap_total / df[\"scrap_units\"].sum()\n",
    "    \n",
    "    # OEE simplifié (proxy) = MTBF / (MTBF + MTTR)\n",
    "    if mtbf and mttr:\n",
    "        oee = mtbf / (mtbf + mttr)\n",
    "    else:\n",
    "        oee = None\n",
    "    \n",
    "    results.append({\n",
    "        \"machine\": machine,\n",
    "        \"MTTR_h\": round(mttr, 2),\n",
    "        \"MTBF_days\": round(mtbf, 2) if mtbf else None,\n",
    "        \"Downtime_total_h\": downtime_total,\n",
    "        \"Cost_total_eur\": cost_total,\n",
    "        \"Scrap_total\": scrap_total,\n",
    "        \"Scrap_rate\": round(scrap_rate*100, 2),\n",
    "        \"OEE_proxy\": round(oee*100, 2) if oee else None\n",
    "    })\n",
    "\n",
    "# Résumé\n",
    "summary = pd.DataFrame(results)\n"
   ]
  },
  {
   "cell_type": "markdown",
   "id": "fffd2764",
   "metadata": {},
   "source": [
    "#### Sauvegarde CSV"
   ]
  },
  {
   "cell_type": "code",
   "execution_count": 4,
   "id": "9974e290",
   "metadata": {},
   "outputs": [
    {
     "name": "stdout",
     "output_type": "stream",
     "text": [
      "✅ KPIs calculés et enregistrés dans kpis_summary.csv\n",
      "   machine  MTTR_h  MTBF_days  Downtime_total_h  Cost_total_eur  Scrap_total  \\\n",
      "0  Press_1    4.00      13.08                52            3475          355   \n",
      "1  Press_2    4.64      12.85                65            4450          314   \n",
      "2  Press_3    3.73      11.36                56            3875          333   \n",
      "3  Press_4    4.00      12.54                56            4300          395   \n",
      "4  Press_5    3.60      11.57                54            4550          269   \n",
      "\n",
      "   Scrap_rate  OEE_proxy  \n",
      "0       21.31      76.59  \n",
      "1       18.85      73.45  \n",
      "2       19.99      75.26  \n",
      "3       23.71      75.81  \n",
      "4       16.15      76.27  \n"
     ]
    }
   ],
   "source": [
    "summary.to_csv(\"kpis_summary.csv\", index=False)\n",
    "\n",
    "print(\"✅ KPIs calculés et enregistrés dans kpis_summary.csv\")\n",
    "print(summary)"
   ]
  },
  {
   "cell_type": "markdown",
   "id": "92bdc8ee",
   "metadata": {},
   "source": [
    "Nous obtenons un fichier kpis_summary.csv avec des colonnes :\n",
    "\n",
    "machine\n",
    "\n",
    "MTTR_h\n",
    "\n",
    "MTBF_days\n",
    "\n",
    "Downtime_total_h\n",
    "\n",
    "Cost_total_eur\n",
    "\n",
    "Scrap_total\n",
    "\n",
    "Scrap_rate (%)\n",
    "\n",
    "OEE_proxy (%)"
   ]
  },
  {
   "cell_type": "markdown",
   "id": "972a45b4",
   "metadata": {},
   "source": []
  }
 ],
 "metadata": {
  "kernelspec": {
   "display_name": "base",
   "language": "python",
   "name": "python3"
  },
  "language_info": {
   "codemirror_mode": {
    "name": "ipython",
    "version": 3
   },
   "file_extension": ".py",
   "mimetype": "text/x-python",
   "name": "python",
   "nbconvert_exporter": "python",
   "pygments_lexer": "ipython3",
   "version": "3.12.7"
  }
 },
 "nbformat": 4,
 "nbformat_minor": 5
}
